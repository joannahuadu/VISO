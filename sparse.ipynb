{
 "cells": [
  {
   "cell_type": "code",
   "execution_count": null,
   "metadata": {},
   "outputs": [
    {
     "ename": "",
     "evalue": "",
     "output_type": "error",
     "traceback": [
      "\u001b[1;31mRunning cells with '/mnt/data1/workspace/wmq/envs/yolo_world_v2/bin/python' requires the ipykernel package.\n",
      "\u001b[1;31mRun the following command to install 'ipykernel' into the Python environment. \n",
      "\u001b[1;31mCommand: 'conda install -p /mnt/data1/workspace/wmq/envs/yolo_world_v2 ipykernel --update-deps --force-reinstall'"
     ]
    }
   ],
   "source": [
    "import spconv.pytorch as spconv\n",
    "import torch\n",
    "import torch.nn as nn\n",
    "\n",
    "device='cuda:0'\n",
    "\n",
    "x_d = torch.zeros((2, 4, 1024, 1024))\n",
    "x_d[0,0,0:16,0:16] += 1.\n",
    "x_d = x_d.to(device)\n",
    "x = spconv.SparseConvTensor.from_dense(x_d.permute(0,2,3,1))\n",
    "\n",
    "conv_sparse = spconv.SubMConv2d(4, 4, kernel_size=3, stride=1, padding=1, indice_key=\"asd\", algo=spconv.ConvAlgo.Native).to(device)\n",
    "bn_sparse = nn.BatchNorm1d(4, momentum=0.1).to(device)\n",
    "conv_bn_relu_sparse = spconv.SparseSequential(conv_sparse, bn_sparse, nn.ReLU(inplace=True)).to(device)\n",
    "\n",
    "conv_norm = nn.Conv2d(4, 4, kernel_size=3, stride=1, padding=1, bias=False, dilation=1).to(device)\n",
    "bn_norm = nn.BatchNorm2d(4, momentum=0.1).to(device)\n",
    "conv_bn_relu_norm = nn.Sequential(conv_norm, bn_norm, nn.ReLU(inplace=True)).to(device)\n",
    "\n",
    "for i in range(10):\n",
    "     print(\"round:\", i)\n",
    "     start_event = torch.cuda.Event(enable_timing=True)\n",
    "     end_event = torch.cuda.Event(enable_timing=True)\n",
    "     start_event.record()\n",
    "     encoder_output1 = conv_bn_relu_norm(x_d)\n",
    "     end_event.record()\n",
    "     end_event.synchronize()\n",
    "     elapsed_time_ms = start_event.elapsed_time(end_event)\n",
    "     print(f\"conv_bn_relu_norm time: {elapsed_time_ms} milliseconds\")\n",
    "\n",
    "     start_event = torch.cuda.Event(enable_timing=True)\n",
    "     end_event = torch.cuda.Event(enable_timing=True)\n",
    "     start_event.record()\n",
    "     encoder_output = conv_bn_relu_sparse(x)\n",
    "     end_event.record()\n",
    "     end_event.synchronize()\n",
    "     elapsed_time_ms = start_event.elapsed_time(end_event)\n",
    "     print(f\"conv_bn_relu_sparse time: {elapsed_time_ms} milliseconds\")"
   ]
  }
 ],
 "metadata": {
  "kernelspec": {
   "display_name": "Python 3",
   "language": "python",
   "name": "python3"
  },
  "language_info": {
   "name": "python",
   "version": "3.8.19"
  }
 },
 "nbformat": 4,
 "nbformat_minor": 2
}
