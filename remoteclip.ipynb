{
 "cells": [
  {
   "cell_type": "code",
   "execution_count": null,
   "metadata": {},
   "outputs": [],
   "source": [
    "from huggingface_hub import hf_hub_download\n",
    "import torch, open_clip\n",
    "from PIL import Image\n",
    "from IPython.display import display\n",
    "\n",
    "model_name = 'RN50' # 'RN50' or 'ViT-B-32' or 'ViT-L-14'\n",
    "model, _, preprocess = open_clip.create_model_and_transforms(model_name)\n",
    "tokenizer = open_clip.get_tokenizer(model_name)\n",
    "\n",
    "path_to_your_checkpoints = 'checkpoints/models--chendelong--RemoteCLIP/snapshots/bf1d8a3ccf2ddbf7c875705e46373bfe542bce38'\n",
    "\n",
    "ckpt = torch.load(f\"{path_to_your_checkpoints}/RemoteCLIP-{model_name}.pt\", map_location=\"cpu\")\n",
    "message = model.load_state_dict(ckpt)\n",
    "print(message)\n",
    "model = model.cuda().eval()"
   ]
  }
 ],
 "metadata": {
  "kernelspec": {
   "display_name": "Python 3",
   "language": "python",
   "name": "python3"
  },
  "language_info": {
   "codemirror_mode": {
    "name": "ipython",
    "version": 3
   },
   "file_extension": ".py",
   "mimetype": "text/x-python",
   "name": "python",
   "nbconvert_exporter": "python",
   "pygments_lexer": "ipython3",
   "version": "3.10.14"
  }
 },
 "nbformat": 4,
 "nbformat_minor": 2
}
