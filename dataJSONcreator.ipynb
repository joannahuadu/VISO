{
 "cells": [
  {
   "cell_type": "code",
   "execution_count": 2,
   "metadata": {},
   "outputs": [],
   "source": [
    "import json\n",
    "import os"
   ]
  },
  {
   "cell_type": "code",
   "execution_count": 34,
   "metadata": {},
   "outputs": [],
   "source": [
    "root_dir=\"/mnt/data1/workspace/wmq/YOLO-World/data/fMoW\""
   ]
  },
  {
   "cell_type": "code",
   "execution_count": 43,
   "metadata": {},
   "outputs": [],
   "source": [
    "def train_json(root_dir,img_select='rgb',add_select=None):#[\"cloud_cover\"]):\n",
    "    dict_list=[]\n",
    "    train_dir=root_dir+'/train'\n",
    "    layer1=os.listdir(train_dir)\n",
    "    for i in range(len(layer1)):\n",
    "        layer2=os.listdir(train_dir+'/'+layer1[i])\n",
    "        dir2=train_dir+'/'+layer1[i]\n",
    "        for j in range(len(layer2)):\n",
    "            layer3=os.listdir(dir2+'/'+layer2[j])\n",
    "            dir3=dir2+'/'+layer2[j]\n",
    "            for k in range(len(layer3)):\n",
    "                d_l={}\n",
    "                if layer3[k].endswith('_'+img_select+'.jpg'):\n",
    "                    d_l['img_dir']=dir3+'/'+layer3[k]\n",
    "                    d_l['meta_dir']=d_l['img_dir'].replace('.jpg','.json')\n",
    "                    if add_select==None:\n",
    "                        dict_list.append(d_l)\n",
    "                    else:\n",
    "                        for i in add_select:\n",
    "                            with open(d_l['meta_dir'],'r+') as f:\n",
    "                                d_l[add_select[i]]=json.load(f)[add_select[i]]\n",
    "                                f.close()\n",
    "                            dict_list.append(d_l)\n",
    "    return dict_list"
   ]
  },
  {
   "cell_type": "code",
   "execution_count": 44,
   "metadata": {},
   "outputs": [],
   "source": [
    "dl=train_json(root_dir)"
   ]
  },
  {
   "cell_type": "code",
   "execution_count": 45,
   "metadata": {},
   "outputs": [
    {
     "data": {
      "text/plain": [
       "[{'img_dir': '/mnt/data1/workspace/wmq/YOLO-World/data/fMoW/train/nuclear_powerplant/nuclear_powerplant_52/nuclear_powerplant_52_1_rgb.jpg',\n",
       "  'meta_dir': '/mnt/data1/workspace/wmq/YOLO-World/data/fMoW/train/nuclear_powerplant/nuclear_powerplant_52/nuclear_powerplant_52_1_rgb.json',\n",
       "  'cloud_cover': 15},\n",
       " {'img_dir': '/mnt/data1/workspace/wmq/YOLO-World/data/fMoW/train/nuclear_powerplant/nuclear_powerplant_52/nuclear_powerplant_52_0_rgb.jpg',\n",
       "  'meta_dir': '/mnt/data1/workspace/wmq/YOLO-World/data/fMoW/train/nuclear_powerplant/nuclear_powerplant_52/nuclear_powerplant_52_0_rgb.json',\n",
       "  'cloud_cover': 0},\n",
       " {'img_dir': '/mnt/data1/workspace/wmq/YOLO-World/data/fMoW/train/nuclear_powerplant/nuclear_powerplant_52/nuclear_powerplant_52_2_rgb.jpg',\n",
       "  'meta_dir': '/mnt/data1/workspace/wmq/YOLO-World/data/fMoW/train/nuclear_powerplant/nuclear_powerplant_52/nuclear_powerplant_52_2_rgb.json',\n",
       "  'cloud_cover': 11},\n",
       " {'img_dir': '/mnt/data1/workspace/wmq/YOLO-World/data/fMoW/train/nuclear_powerplant/nuclear_powerplant_52/nuclear_powerplant_52_4_rgb.jpg',\n",
       "  'meta_dir': '/mnt/data1/workspace/wmq/YOLO-World/data/fMoW/train/nuclear_powerplant/nuclear_powerplant_52/nuclear_powerplant_52_4_rgb.json',\n",
       "  'cloud_cover': 10},\n",
       " {'img_dir': '/mnt/data1/workspace/wmq/YOLO-World/data/fMoW/train/nuclear_powerplant/nuclear_powerplant_45/nuclear_powerplant_45_0_rgb.jpg',\n",
       "  'meta_dir': '/mnt/data1/workspace/wmq/YOLO-World/data/fMoW/train/nuclear_powerplant/nuclear_powerplant_45/nuclear_powerplant_45_0_rgb.json',\n",
       "  'cloud_cover': 0},\n",
       " {'img_dir': '/mnt/data1/workspace/wmq/YOLO-World/data/fMoW/train/nuclear_powerplant/nuclear_powerplant_37/nuclear_powerplant_37_2_rgb.jpg',\n",
       "  'meta_dir': '/mnt/data1/workspace/wmq/YOLO-World/data/fMoW/train/nuclear_powerplant/nuclear_powerplant_37/nuclear_powerplant_37_2_rgb.json',\n",
       "  'cloud_cover': 0},\n",
       " {'img_dir': '/mnt/data1/workspace/wmq/YOLO-World/data/fMoW/train/nuclear_powerplant/nuclear_powerplant_37/nuclear_powerplant_37_5_rgb.jpg',\n",
       "  'meta_dir': '/mnt/data1/workspace/wmq/YOLO-World/data/fMoW/train/nuclear_powerplant/nuclear_powerplant_37/nuclear_powerplant_37_5_rgb.json',\n",
       "  'cloud_cover': 2},\n",
       " {'img_dir': '/mnt/data1/workspace/wmq/YOLO-World/data/fMoW/train/nuclear_powerplant/nuclear_powerplant_37/nuclear_powerplant_37_4_rgb.jpg',\n",
       "  'meta_dir': '/mnt/data1/workspace/wmq/YOLO-World/data/fMoW/train/nuclear_powerplant/nuclear_powerplant_37/nuclear_powerplant_37_4_rgb.json',\n",
       "  'cloud_cover': 25},\n",
       " {'img_dir': '/mnt/data1/workspace/wmq/YOLO-World/data/fMoW/train/nuclear_powerplant/nuclear_powerplant_37/nuclear_powerplant_37_6_rgb.jpg',\n",
       "  'meta_dir': '/mnt/data1/workspace/wmq/YOLO-World/data/fMoW/train/nuclear_powerplant/nuclear_powerplant_37/nuclear_powerplant_37_6_rgb.json',\n",
       "  'cloud_cover': 5},\n",
       " {'img_dir': '/mnt/data1/workspace/wmq/YOLO-World/data/fMoW/train/nuclear_powerplant/nuclear_powerplant_47/nuclear_powerplant_47_1_rgb.jpg',\n",
       "  'meta_dir': '/mnt/data1/workspace/wmq/YOLO-World/data/fMoW/train/nuclear_powerplant/nuclear_powerplant_47/nuclear_powerplant_47_1_rgb.json',\n",
       "  'cloud_cover': 0}]"
      ]
     },
     "execution_count": 45,
     "metadata": {},
     "output_type": "execute_result"
    }
   ],
   "source": [
    "dl[0:10]"
   ]
  },
  {
   "cell_type": "code",
   "execution_count": 38,
   "metadata": {},
   "outputs": [
    {
     "data": {
      "text/plain": [
       "363572"
      ]
     },
     "execution_count": 38,
     "metadata": {},
     "output_type": "execute_result"
    }
   ],
   "source": [
    "len(dl)"
   ]
  },
  {
   "cell_type": "code",
   "execution_count": null,
   "metadata": {},
   "outputs": [],
   "source": []
  }
 ],
 "metadata": {
  "kernelspec": {
   "display_name": "yolo_world_v2",
   "language": "python",
   "name": "python3"
  },
  "language_info": {
   "codemirror_mode": {
    "name": "ipython",
    "version": 3
   },
   "file_extension": ".py",
   "mimetype": "text/x-python",
   "name": "python",
   "nbconvert_exporter": "python",
   "pygments_lexer": "ipython3",
   "version": "3.8.19"
  }
 },
 "nbformat": 4,
 "nbformat_minor": 2
}
