{
 "cells": [
  {
   "cell_type": "code",
   "execution_count": 3,
   "metadata": {},
   "outputs": [],
   "source": [
    "from torch.utils.data import Dataset,DataLoader\n",
    "from PIL import Image\n",
    "import os\n",
    "import torch\n",
    "from torchvision import transforms\n",
    "import numpy as np"
   ]
  },
  {
   "cell_type": "code",
   "execution_count": 8,
   "metadata": {},
   "outputs": [],
   "source": [
    "class fMoW_Data(Dataset): \n",
    "    def __init__(self, root_dir, mode='train', label='cloud_cover'):\n",
    "        '''\n",
    "            Maybe label could be:\n",
    "            - \"utm\"\n",
    "            - \"country_code\"\n",
    "            - \"cloud_cover\"\n",
    "        '''\n",
    "        self.root_dir = root_dir   \n",
    "        self.mode = mode\n",
    "        self.label=label\n",
    "        self.images = os.listdir(self.root_dir+\"/\"+self.mode)\n",
    "    \n",
    "    def __len__(self):\n",
    "        return len(self.images)\n",
    "    \n",
    "    def __getitem__(self,index):\n",
    "        image_index = self.images[index]\n",
    "        img_path = os.path.join(self.root_dir, image_index)\n",
    "        img = Image.open(img_path)\n",
    "        label = int(image_index[-5])\n",
    "        # sample = (img,label)\n",
    "        \n",
    "        if self.transform:\n",
    "            sample = self.transform(img)\n",
    "        return sample,label\n",
    "    \n",
    "    def sort_by_label(self):\n",
    "        return"
   ]
  },
  {
   "cell_type": "code",
   "execution_count": 21,
   "metadata": {},
   "outputs": [],
   "source": [
    "image_path=\"data/fMoW/train\""
   ]
  },
  {
   "cell_type": "code",
   "execution_count": 23,
   "metadata": {},
   "outputs": [],
   "source": [
    "layer1=os.listdir(image_path)"
   ]
  },
  {
   "cell_type": "code",
   "execution_count": 25,
   "metadata": {},
   "outputs": [
    {
     "data": {
      "text/plain": [
       "62"
      ]
     },
     "execution_count": 25,
     "metadata": {},
     "output_type": "execute_result"
    }
   ],
   "source": [
    "len(layer1)"
   ]
  },
  {
   "cell_type": "code",
   "execution_count": 27,
   "metadata": {},
   "outputs": [],
   "source": [
    "layer2=os.listdir(image_path+\"/\"+layer1[0])"
   ]
  },
  {
   "cell_type": "code",
   "execution_count": 28,
   "metadata": {},
   "outputs": [
    {
     "data": {
      "text/plain": [
       "74"
      ]
     },
     "execution_count": 28,
     "metadata": {},
     "output_type": "execute_result"
    }
   ],
   "source": [
    "len(layer2)"
   ]
  },
  {
   "cell_type": "code",
   "execution_count": 29,
   "metadata": {},
   "outputs": [],
   "source": [
    "layer3=os.listdir(image_path+\"/\"+layer1[0]+'/'+layer2[0])"
   ]
  },
  {
   "cell_type": "code",
   "execution_count": 30,
   "metadata": {},
   "outputs": [
    {
     "data": {
      "text/plain": [
       "['nuclear_powerplant_52_1_rgb.json',\n",
       " 'nuclear_powerplant_52_0_msrgb.json',\n",
       " 'nuclear_powerplant_52_1_rgb.jpg',\n",
       " 'nuclear_powerplant_52_1_msrgb.json',\n",
       " 'nuclear_powerplant_52_0_rgb.jpg',\n",
       " 'nuclear_powerplant_52_2_msrgb.jpg',\n",
       " 'nuclear_powerplant_52_0_msrgb.jpg',\n",
       " 'nuclear_powerplant_52_4_msrgb.json',\n",
       " 'nuclear_powerplant_52_4_msrgb.jpg',\n",
       " 'nuclear_powerplant_52_4_rgb.json',\n",
       " 'nuclear_powerplant_52_2_rgb.json',\n",
       " 'nuclear_powerplant_52_2_msrgb.json',\n",
       " 'nuclear_powerplant_52_2_rgb.jpg',\n",
       " 'nuclear_powerplant_52_4_rgb.jpg',\n",
       " 'nuclear_powerplant_52_1_msrgb.jpg',\n",
       " 'nuclear_powerplant_52_0_rgb.json']"
      ]
     },
     "execution_count": 30,
     "metadata": {},
     "output_type": "execute_result"
    }
   ],
   "source": [
    "layer3"
   ]
  },
  {
   "cell_type": "code",
   "execution_count": 31,
   "metadata": {},
   "outputs": [],
   "source": [
    "a={\n",
    "    'img_dir':\"/mnt/data1/workspace/wmq/YOLO-World/data/fMoW/train/airport/airport_0/airport_0_0_rgb.jpg\",\n",
    "   'meta_dir':\"/mnt/data1/workspace/wmq/YOLO-World/data/fMoW/train/airport/airport_0/airport_0_0_rgb.json\"\n",
    "   }\n",
    "b={\n",
    "    'img_dir':\"/mnt/data1/workspace/wmq/YOLO-World/data/fMoW/train/airport/airport_0/airport_0_1_rgb.jpg\",\n",
    "   'meta_dir':\"/mnt/data1/workspace/wmq/YOLO-World/data/fMoW/train/airport/airport_0/airport_0_1_rgb.json\"\n",
    "}"
   ]
  },
  {
   "cell_type": "code",
   "execution_count": 32,
   "metadata": {},
   "outputs": [],
   "source": [
    "data_list = []"
   ]
  },
  {
   "cell_type": "code",
   "execution_count": 33,
   "metadata": {},
   "outputs": [],
   "source": [
    "data_list.append(a)\n",
    "data_list.append(b)"
   ]
  },
  {
   "cell_type": "code",
   "execution_count": 34,
   "metadata": {},
   "outputs": [
    {
     "data": {
      "text/plain": [
       "[{'img_dir': '/mnt/data1/workspace/wmq/YOLO-World/data/fMoW/train/airport/airport_0/airport_0_0_rgb.jpg',\n",
       "  'meta_dir': '/mnt/data1/workspace/wmq/YOLO-World/data/fMoW/train/airport/airport_0/airport_0_0_rgb.json'},\n",
       " {'img_dir': '/mnt/data1/workspace/wmq/YOLO-World/data/fMoW/train/airport/airport_0/airport_0_1_rgb.jpg',\n",
       "  'meta_dir': '/mnt/data1/workspace/wmq/YOLO-World/data/fMoW/train/airport/airport_0/airport_0_1_rgb.json'}]"
      ]
     },
     "execution_count": 34,
     "metadata": {},
     "output_type": "execute_result"
    }
   ],
   "source": [
    "data_list"
   ]
  },
  {
   "cell_type": "code",
   "execution_count": 35,
   "metadata": {},
   "outputs": [],
   "source": [
    "import json"
   ]
  },
  {
   "cell_type": "code",
   "execution_count": 36,
   "metadata": {},
   "outputs": [],
   "source": [
    "str_json = json.dumps(data_list, ensure_ascii=False, indent=2)"
   ]
  },
  {
   "cell_type": "code",
   "execution_count": 37,
   "metadata": {},
   "outputs": [
    {
     "data": {
      "text/plain": [
       "'[\\n  {\\n    \"img_dir\": \"/mnt/data1/workspace/wmq/YOLO-World/data/fMoW/train/airport/airport_0/airport_0_0_rgb.jpg\",\\n    \"meta_dir\": \"/mnt/data1/workspace/wmq/YOLO-World/data/fMoW/train/airport/airport_0/airport_0_0_rgb.json\"\\n  },\\n  {\\n    \"img_dir\": \"/mnt/data1/workspace/wmq/YOLO-World/data/fMoW/train/airport/airport_0/airport_0_1_rgb.jpg\",\\n    \"meta_dir\": \"/mnt/data1/workspace/wmq/YOLO-World/data/fMoW/train/airport/airport_0/airport_0_1_rgb.json\"\\n  }\\n]'"
      ]
     },
     "execution_count": 37,
     "metadata": {},
     "output_type": "execute_result"
    }
   ],
   "source": [
    "str_json"
   ]
  },
  {
   "cell_type": "code",
   "execution_count": 38,
   "metadata": {},
   "outputs": [],
   "source": [
    "with open(\"fMoW_train.json\", \"w\", encoding='utf-8') as f:\n",
    "    # indent 超级好用，格式化保存字典，默认为None，小于0为零个空格\n",
    "    f.write(json.dumps(data_list, ensure_ascii=False, indent=2))\n",
    "    # json.dump(dict, f, indent=4)  # 传入文件描述符，和dumps一样的结果\n",
    "    f.close() ##关闭文件"
   ]
  },
  {
   "cell_type": "code",
   "execution_count": 43,
   "metadata": {},
   "outputs": [],
   "source": [
    "with open('fMoW_train.json','r+') as f:\n",
    "    aa=json.load(f)\n",
    "    f.close()"
   ]
  },
  {
   "cell_type": "code",
   "execution_count": 45,
   "metadata": {},
   "outputs": [
    {
     "data": {
      "text/plain": [
       "2"
      ]
     },
     "execution_count": 45,
     "metadata": {},
     "output_type": "execute_result"
    }
   ],
   "source": [
    "len(aa)"
   ]
  },
  {
   "cell_type": "code",
   "execution_count": 48,
   "metadata": {},
   "outputs": [
    {
     "data": {
      "text/plain": [
       "'/mnt/data1/workspace/wmq/YOLO-World/data/fMoW/train/airport/airport_0/airport_0_0_rgb.jpg'"
      ]
     },
     "execution_count": 48,
     "metadata": {},
     "output_type": "execute_result"
    }
   ],
   "source": [
    "aa[0][\"img_dir\"]"
   ]
  },
  {
   "cell_type": "code",
   "execution_count": null,
   "metadata": {},
   "outputs": [],
   "source": []
  }
 ],
 "metadata": {
  "kernelspec": {
   "display_name": "yolo_world_v2",
   "language": "python",
   "name": "python3"
  },
  "language_info": {
   "codemirror_mode": {
    "name": "ipython",
    "version": 3
   },
   "file_extension": ".py",
   "mimetype": "text/x-python",
   "name": "python",
   "nbconvert_exporter": "python",
   "pygments_lexer": "ipython3",
   "version": "3.8.19"
  }
 },
 "nbformat": 4,
 "nbformat_minor": 2
}
